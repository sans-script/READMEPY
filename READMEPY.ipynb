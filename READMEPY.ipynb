{
  "cells": [
    {
      "cell_type": "markdown",
      "metadata": {
        "id": "view-in-github",
        "colab_type": "text"
      },
      "source": [
        "<a href=\"https://colab.research.google.com/github/sans-script/READMEPY/blob/main/READMEPY.ipynb\" target=\"_parent\"><img src=\"https://colab.research.google.com/assets/colab-badge.svg\" alt=\"Open In Colab\"/></a>"
      ]
    },
    {
      "cell_type": "markdown",
      "metadata": {
        "id": "YrX-7649MqGd"
      },
      "source": [
        "# Utilizando a API Google Generative AI na criação do chatbot ideal para a escrita de README's para o GitHub 🤖\n",
        "\n",
        "### Este Python Notebook implementa um chatbot utilizando a API Google Generative AI. Após instalar e configurar as dependências, é iniciado uma sessão de chat com o gemini-1.5-pro-latest. Para sair do chat, basta que o usuário digite \"Exit\" (sem as aspas). As respostas do chatbot poder ser visualizadas com formatação feita em Markdown, neste ambiente do Jupyter Notebook há um tratamento especial para mensagens que terminam com `--pure`. Essas respostas são exibidas diretamente no console em Mark Down puro, sendo ideal para quem quer escrever um README.md\n"
      ]
    },
    {
      "cell_type": "markdown",
      "metadata": {
        "id": "AqHrKO-ZMqGh"
      },
      "source": [
        "A célula abaixo executa dois comandos para instalar bibliotecas Python necessárias para o projeto:\n",
        "\n",
        "**1. `!pip install -q -U google-generativeai`**\n",
        "\n",
        "*   **`!pip`**: Indica que o comando deve ser executado usando o gerenciador de pacotes pip do Python.\n",
        "*   **`install`**: Instrui o pip a instalar um pacote.\n",
        "*   **`-q`**: Opção para executar o comando em modo silencioso, sem exibir a saída detalhada.\n",
        "*   **`-U`**: Opção para atualizar o pacote para a versão mais recente, se já estiver instalado.\n",
        "*   **`google-generativeai`**: O nome do pacote a ser instalado. Este pacote fornece ferramentas e funcionalidades relacionadas a modelos de linguagem generativos do Google.\n",
        "\n",
        "**2. `!pip install -q -U tqdm`**\n",
        "\n",
        "*   **`!pip install -q -U`**: Mesma função que no comando anterior, usando o pip para instalar ou atualizar um pacote em modo silencioso.\n",
        "*   **`tqdm`**: O nome do pacote a ser instalado. tqdm é uma biblioteca popular para criar barras de progresso em Python, que podem ser úteis para visualizar o andamento de tarefas demoradas.\n"
      ]
    },
    {
      "cell_type": "code",
      "execution_count": null,
      "metadata": {
        "id": "eR2KEM2WB7j-"
      },
      "outputs": [],
      "source": [
        "!pip install -q -U google-generativeai\n",
        "!pip install -q -U tqdm"
      ]
    },
    {
      "cell_type": "markdown",
      "metadata": {
        "id": "5vSkO72uMqGl"
      },
      "source": [
        "### Aqui será realizado os imports necessários para a execução do projeto"
      ]
    },
    {
      "cell_type": "code",
      "execution_count": null,
      "metadata": {
        "id": "OqPrq78ICE45"
      },
      "outputs": [],
      "source": [
        "import textwrap\n",
        "import time\n",
        "from tqdm import tqdm\n",
        "import google.generativeai as genai\n",
        "from google.colab import userdata\n",
        "from IPython.display import display\n",
        "from IPython.display import Markdown"
      ]
    },
    {
      "cell_type": "markdown",
      "metadata": {
        "id": "2Uzn-KY4MqGm"
      },
      "source": [
        "### Abaixo está sendo definido uma função responsável pela exibição da resposta em Mark Down"
      ]
    },
    {
      "cell_type": "code",
      "execution_count": null,
      "metadata": {
        "id": "BvYPKzHzMqGm"
      },
      "outputs": [],
      "source": [
        "def to_markdown(text):\n",
        "  text = text.replace('•', '  *')\n",
        "  return Markdown(textwrap.indent(text, '> ', predicate=lambda _: True))"
      ]
    },
    {
      "cell_type": "markdown",
      "metadata": {
        "id": "qHLWRp21MqGm"
      },
      "source": [
        "### Nesse trecho logo abaixo, está sendo configurado a API do Google para uso de seus modelos de AI generativa"
      ]
    },
    {
      "cell_type": "code",
      "execution_count": null,
      "metadata": {
        "id": "WxHrSFmnCUfI"
      },
      "outputs": [],
      "source": [
        "GOOGLE_API_KEY = userdata.get(\"SECRET_KEY\")\n",
        "genai.configure(api_key = GOOGLE_API_KEY)\n",
        "model = genai.GenerativeModel('gemini-1.5-pro-latest')"
      ]
    },
    {
      "cell_type": "markdown",
      "metadata": {
        "id": "2srtbAV-MqGn"
      },
      "source": [
        "### Logo abaixo está o objeto `chat`, este objeto armazena entrada do usuário combinada com a regra definida logo depois"
      ]
    },
    {
      "cell_type": "code",
      "execution_count": null,
      "metadata": {
        "id": "urdcEf5SC3dy"
      },
      "outputs": [],
      "source": [
        "chat = model.start_chat(history=[])"
      ]
    },
    {
      "cell_type": "markdown",
      "metadata": {
        "id": "84PxduOrMqGo"
      },
      "source": [
        "### ✨ Descrição do Código Python:\n",
        "\n",
        "Este trecho de código implementa um loop de interação que processa a entrada do usuário, gera uma resposta e a exibe formatada. A interação inclui personalização com nome do usuário.\n",
        "\n",
        "### Principais componentes:\n",
        "\n",
        "*   **`user_name`**: Armazena o nome do usuário, obtido por meio de uma entrada.\n",
        "*   **`rule`**: Armazena uma string de instrução que será anexada à entrada do usuário antes de ser enviada para geração de resposta. A regra inclui o nome do usuário.\n",
        "*   **`prompt`**: Variável que armazena a entrada do usuário. Inicialmente, recebe uma mensagem de saudação personalizada com o nome do usuário.\n",
        "\n",
        "**Loop Principal:**\n",
        "\n",
        "*   O loop `while` continua até que o usuário digite \"Exit\".\n",
        "*   Dentro do loop:\n",
        "    *   **`response = chat.send_message(rule + prompt)`**: A entrada do usuário é combinada com a regra e enviada para um objeto `chat` através do método `send_message`, para gerar uma resposta.\n",
        "     *   **Barra de progresso**: Uma barra de progresso é exibida usando `tqdm` e `time.sleep` entre cada interação.\n",
        "     *   **Verificação de formatação**: O código verifica se a entrada do usuário termina com \"--pure\".\n",
        "     *   Se terminar com \"--pure\":\n",
        "         *   A resposta é exibida diretamente em Markdown puro.\n",
        "     *   Se não terminar com \"--pure\":\n",
        "         *   A resposta é convertida para markdown (visualização da formatação) usando `to_markdown` e exibida.\n",
        "     *   **Nova entrada**: Uma nova entrada é solicitada ao usuário.\n",
        "\n",
        "* Se ocorrerem erros, verifique se todas as dependências foram instaladas corretamente e execute novamente todas as células em ordem de execução"
      ]
    },
    {
      "cell_type": "code",
      "execution_count": null,
      "metadata": {
        "id": "6r1TAbY-E7Kl",
        "colab": {
          "base_uri": "https://localhost:8080/",
          "height": 532
        },
        "outputId": "c165eeb8-a018-4335-899b-ea73210db850"
      },
      "outputs": [
        {
          "name": "stdout",
          "output_type": "stream",
          "text": [
            "Qual o seu nome? Alex\n",
            "Olá, Alex. Posso ajudar? Que dia é comemorado o dia da mentira e porquê?\n"
          ]
        },
        {
          "output_type": "stream",
          "name": "stderr",
          "text": [
            "Loading Response ✨: 100%|█████████████████| 10/10 [00:01<00:00,  9.80it/s]\n"
          ]
        },
        {
          "output_type": "display_data",
          "data": {
            "text/plain": [
              "<IPython.core.display.Markdown object>"
            ],
            "text/markdown": "> O Dia da Mentira é comemorado em **1º de abril**. A origem exata da data é incerta, mas existem algumas teorias populares:\n> \n> * **Mudança do calendário:** Uma teoria sugere que o Dia da Mentira surgiu na França no século XVI, quando o calendário juliano foi substituído pelo calendário gregoriano. No calendário juliano, o ano novo era comemorado em 1º de abril, mas com a mudança, a data passou para 1º de janeiro. Aqueles que se esqueciam da mudança e continuavam a comemorar o ano novo em abril eram alvo de brincadeiras e eram chamados de \"bobos de abril\".\n> \n> * **Festivais pagãos:** Outra teoria relaciona o Dia da Mentira a festivais pagãos da primavera, como o festival romano de Hilaria, que envolvia disfarces e brincadeiras.\n> \n> Independentemente da origem, o Dia da Mentira se tornou uma tradição popular em muitos países, onde as pessoas pregam peças inofensivas umas nas outras nesse dia. \n"
          },
          "metadata": {}
        },
        {
          "output_type": "stream",
          "name": "stdout",
          "text": [
            "$ Conte-me mais --pure\n",
            "\n",
            "\n",
            "A tradição do Dia da Mentira varia de país para país, mas algumas das brincadeiras mais comuns incluem:\n",
            "\n",
            "* **Notícias falsas:** Jornais, revistas e sites de notícias publicam histórias falsas para enganar os leitores.\n",
            "* **Pegadinhas:** As pessoas pregam peças umas nas outras, como colocar sal no açucareiro ou mudar o horário do despertador.\n",
            "* **Brincadeiras na mídia:** Programas de televisão e rádio podem transmitir notícias falsas ou pregar peças em seus ouvintes.\n",
            "\n",
            "O Dia da Mentira é uma oportunidade para se divertir e rir um pouco, mas é importante lembrar de manter as brincadeiras leves e inofensivas. Ninguém quer ser a vítima de uma piada de mau gosto. \n",
            " \n",
            "\n"
          ]
        }
      ],
      "source": [
        "user_name = input(\"Qual o seu nome? \")\n",
        "rule = f'This is a rule: If you see the term --pure at the end of the prompt, i.e. the user message that is sent to you, do not mention it and do not talk about it in the response, just ignore it and continue reading the rest of the message and doing what is asked, and if there is no --pure in the user message, just ignore this message. If need the user name, the user name will be {user_name}'\n",
        "prompt = input(f\"Olá, {user_name}. Posso ajudar? \")\n",
        "\n",
        "for _ in tqdm(range(10), ncols=75, desc=\"Loading Response ✨\"):\n",
        "    time.sleep(0.1)\n",
        "while prompt != \"Exit\":\n",
        "    response = chat.send_message(rule + prompt)\n",
        "    # response = model.generate_content(prompt) <- Descomente essa linha se vc quer que seu bot sofra de amnésia (não guarde as mensagens no objeto chat)\n",
        "    md_rule = \"--pure\"\n",
        "    if prompt.endswith(md_rule):\n",
        "        print(response.text, \"\\n\")\n",
        "    else:\n",
        "        display(to_markdown(response.text))\n",
        "    prompt = input(\"$ \")\n",
        "    print(\"\\n\")"
      ]
    }
  ],
  "metadata": {
    "colab": {
      "provenance": [],
      "toc_visible": true,
      "include_colab_link": true
    },
    "kernelspec": {
      "display_name": "Python 3",
      "name": "python3"
    },
    "language_info": {
      "codemirror_mode": {
        "name": "ipython",
        "version": 3
      },
      "file_extension": ".py",
      "mimetype": "text/x-python",
      "name": "python",
      "nbconvert_exporter": "python",
      "pygments_lexer": "ipython3",
      "version": "3.12.3"
    }
  },
  "nbformat": 4,
  "nbformat_minor": 0
}